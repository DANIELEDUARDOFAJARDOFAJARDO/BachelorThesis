{
 "cells": [
  {
   "cell_type": "code",
   "execution_count": 3,
   "metadata": {},
   "outputs": [],
   "source": [
    "#Se importan librerias necesarias\n",
    "import pandas as pd\n",
    "import numpy as np\n",
    "from random import random\n",
    "from math import factorial"
   ]
  },
  {
   "cell_type": "code",
   "execution_count": 4,
   "metadata": {},
   "outputs": [],
   "source": [
    "#Se definen funciones para realizar la simulacion\n",
    "def rep_prob(k,n,h):\n",
    "    return 1/(1+(k*n)*h)\n",
    "def g_r(a,b,n):\n",
    "    return (a/(b+n))\n",
    "def comb(n,r):\n",
    "    return factorial(n)/((factorial(n-r))*factorial(r))\n",
    "def binomial(n,r):\n",
    "    return comb(n,r)/(2.0**n)\n",
    "def cumbin(n):\n",
    "    suma=0.0\n",
    "    cum=[]\n",
    "    for i in range(n):\n",
    "        cum.append(suma)\n",
    "        suma+=binomial(n,i)\n",
    "    return np.array(cum)\n",
    "\n",
    "def division(n):\n",
    "    rta= 0,0\n",
    "    if(n==0):\n",
    "        return rta\n",
    "        \n",
    "    c=cumbin(n)\n",
    "    r=np.zeros(n)+random()\n",
    "    diff=abs(c-r)\n",
    "    minimo=1.01\n",
    "    j=np.where(diff==min(diff))[0]\n",
    "    return j, n-j           \n",
    "def simulation(p1,p2,k1,k2,h,gen):\n",
    "    def r1(k,p1,p2,h):\n",
    "        return rep_prob(k1,p1+p2,h)\n",
    "    def r2(k,p1,p2,h):\n",
    "        return rep_prob(k2,p1+p2,h)\n",
    "    def ronda(p1,p2, t, s):\n",
    "        while(s<2.0):\n",
    "            if(random()<r1(k1,p1,p2,h)):\n",
    "                  p1+=1\n",
    "            if(random()<r2(k2,p1,p2,h)):\n",
    "                  p2+=1\n",
    "            t+=1\n",
    "            s+=g_r(a,b,p1+p2)\n",
    "        return [int(p1),int(p2),int(t),2.0]           \n",
    "    bact={\"Plasmido_1\":[p1],\"Plasmido_2\":[p2],\"Tiempo\":[0.0],\"Size\":[1.0]}\n",
    "    df = pd.DataFrame (bact, columns = [\"Plasmido_1\",\"Plasmido_2\",\"Tiempo\",\"Size\"])\n",
    "    while(len(df)<2**gen):\n",
    "        df=df.sort_values(by=[\"Tiempo\"])\n",
    "        lt=ronda(int(df.iloc[0][\"Plasmido_1\"]),int(df.iloc[0][\"Plasmido_2\"]),df.iloc[0][\"Tiempo\"],df.iloc[0][\"Size\"])\n",
    "        p11, p12=division(lt[0])[0],division(lt[0])[1]\n",
    "        p21, p22=division(lt[1])[0],division(lt[1])[1]\n",
    "        t=lt[2]\n",
    "        s=lt[3]//2\n",
    "        df.iloc[0]=[p11,p21,t,s]\n",
    "        df.loc[len(df)]=[p12,p22,t,s]\n",
    "    return df\n",
    "        "
   ]
  },
  {
   "cell_type": "code",
   "execution_count": 12,
   "metadata": {},
   "outputs": [
    {
     "name": "stdout",
     "output_type": "stream",
     "text": [
      "Resultado de numero de plasmidos promedio(10 repeticiones) despues de 10 generaciones, con A igual a 1 y B igual 10, k1 igual a 0.01, k2 igual a 0.5, h igual a 5\n",
      "Plasmido 1 [16027.7] y Plasmido 2 [601.2]\n"
     ]
    }
   ],
   "source": [
    "#Se definen parametros con los cuales se va a realizar la simulacion\n",
    "a=1\n",
    "b=10\n",
    "p1=1\n",
    "p2=10\n",
    "k1=0.01\n",
    "k2=0.5\n",
    "h=5\n",
    "gen=10\n",
    "t=0\n",
    "s=0\n",
    "p1s=[]\n",
    "p2s=[]\n",
    "N=10\n",
    "for i in range(N): \n",
    "    df=simulation(p1,p2,k1,k2,h,gen)\n",
    "    p1t=sum(df.Plasmido_1)\n",
    "    p1s.append(p1t)\n",
    "    p2t=sum(df.Plasmido_2)\n",
    "    p2s.append(p2t)\n",
    "p1m=sum(p1s)/len(p1s)\n",
    "p2m=sum(p2s)/len(p2s)\n",
    "print(\"Resultado de numero de plasmidos promedio({} repeticiones) despues de {} generaciones, con A igual a {} y B igual {}, k1 igual a {}, k2 igual a {}, h igual a {}\".format(N,gen,a,b, k1, k2 , h))\n",
    "print(\"Plasmido 1 {} y Plasmido 2 {}\".format(p1m,p2m))"
   ]
  },
  {
   "cell_type": "code",
   "execution_count": null,
   "metadata": {},
   "outputs": [],
   "source": []
  }
 ],
 "metadata": {
  "kernelspec": {
   "display_name": "Python 3",
   "language": "python",
   "name": "python3"
  },
  "language_info": {
   "codemirror_mode": {
    "name": "ipython",
    "version": 3
   },
   "file_extension": ".py",
   "mimetype": "text/x-python",
   "name": "python",
   "nbconvert_exporter": "python",
   "pygments_lexer": "ipython3",
   "version": "3.7.4"
  }
 },
 "nbformat": 4,
 "nbformat_minor": 2
}
