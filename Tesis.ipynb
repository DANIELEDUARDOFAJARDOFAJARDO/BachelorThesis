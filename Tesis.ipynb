{
 "cells": [
  {
   "cell_type": "code",
   "execution_count": 131,
   "metadata": {},
   "outputs": [],
   "source": [
    "import pandas as pd\n",
    "import numpy as np\n",
    "from random import random\n",
    "from math import factorial"
   ]
  },
  {
   "cell_type": "code",
   "execution_count": 135,
   "metadata": {},
   "outputs": [],
   "source": [
    "def rep_prob(k,n,h):\n",
    "    return 1/(1+(k*n)*h)\n",
    "def g_r(a,b,n):\n",
    "    return (a/(b+n))\n",
    "def comb(n,r):\n",
    "    return factorial(n)/((factorial(n-r))*factorial(r))\n",
    "def binomial(n,r):\n",
    "    return comb(n,r)/(2.0**n)\n",
    "def cumbin(n):\n",
    "    suma=0.0\n",
    "    cum=[]\n",
    "    for i in range(n):\n",
    "        cum.append(suma)\n",
    "        suma+=binomial(n,i)\n",
    "    return np.array(cum)\n",
    "\n",
    "def division(n):\n",
    "    rta= 0,0\n",
    "    if(n==0):\n",
    "        return rta\n",
    "        \n",
    "    c=cumbin(n)\n",
    "    r=np.zeros(n)+random()\n",
    "    diff=abs(c-r)\n",
    "    minimo=1.01\n",
    "    j=np.where(diff==min(diff))[0]\n",
    "    return j, n-j           "
   ]
  },
  {
   "cell_type": "code",
   "execution_count": 136,
   "metadata": {},
   "outputs": [],
   "source": [
    "def simulation(p1,p2,k1,k2,h,gen):\n",
    "    def r1(k,p1,p2,h):\n",
    "        return rep_prob(k1,p1+p2,h)\n",
    "    def r2(k,p1,p2,h):\n",
    "        return rep_prob(k2,p1+p2,h)\n",
    "    def ronda(p1,p2, t, s):\n",
    "        while(s<2.0):\n",
    "            if(random()<r1(k1,p1,p2,h)):\n",
    "                  p1+=1\n",
    "            if(random()<r2(k2,p1,p2,h)):\n",
    "                  p2+=1\n",
    "            t+=1\n",
    "            s+=g_r(a,b,p1+p2)\n",
    "        return [int(p1),int(p2),int(t),2.0]           \n",
    "    bact={\"Plasmido_1\":[p1],\"Plasmido_2\":[p2],\"Tiempo\":[0.0],\"Size\":[1.0]}\n",
    "    df = pd.DataFrame (bact, columns = [\"Plasmido_1\",\"Plasmido_2\",\"Tiempo\",\"Size\"])\n",
    "    while(len(df)<2**gen):\n",
    "        df=df.sort_values(by=[\"Tiempo\"])\n",
    "        lt=ronda(int(df.iloc[0][\"Plasmido_1\"]),int(df.iloc[0][\"Plasmido_2\"]),df.iloc[0][\"Tiempo\"],df.iloc[0][\"Size\"])\n",
    "        p11, p12=division(lt[0])[0],division(lt[0])[1]\n",
    "        p21, p22=division(lt[1])[0],division(lt[1])[1]\n",
    "        t=lt[2]\n",
    "        s=lt[3]//2\n",
    "        df.iloc[0]=[p11,p21,t,s]\n",
    "        df.loc[len(df)]=[p12,p22,t,s]\n",
    "    return df\n",
    "        \n",
    "        \n",
    "        \n",
    "        "
   ]
  },
  {
   "cell_type": "code",
   "execution_count": 148,
   "metadata": {},
   "outputs": [],
   "source": [
    "a=1\n",
    "b=10\n",
    "p1=1\n",
    "p2=10\n",
    "k1=0.01\n",
    "k2=0.5\n",
    "h=5\n",
    "gen=12\n",
    "t=0\n",
    "s=0\n",
    "df=simulation(p1,p2,k1,k2,h,gen)"
   ]
  },
  {
   "cell_type": "code",
   "execution_count": 149,
   "metadata": {},
   "outputs": [
    {
     "data": {
      "text/html": [
       "<div>\n",
       "<style scoped>\n",
       "    .dataframe tbody tr th:only-of-type {\n",
       "        vertical-align: middle;\n",
       "    }\n",
       "\n",
       "    .dataframe tbody tr th {\n",
       "        vertical-align: top;\n",
       "    }\n",
       "\n",
       "    .dataframe thead th {\n",
       "        text-align: right;\n",
       "    }\n",
       "</style>\n",
       "<table border=\"1\" class=\"dataframe\">\n",
       "  <thead>\n",
       "    <tr style=\"text-align: right;\">\n",
       "      <th></th>\n",
       "      <th>Plasmido_1</th>\n",
       "      <th>Plasmido_2</th>\n",
       "      <th>Tiempo</th>\n",
       "      <th>Size</th>\n",
       "    </tr>\n",
       "  </thead>\n",
       "  <tbody>\n",
       "    <tr>\n",
       "      <td>2365</td>\n",
       "      <td>[16]</td>\n",
       "      <td>[2]</td>\n",
       "      <td>405.0</td>\n",
       "      <td>1.0</td>\n",
       "    </tr>\n",
       "    <tr>\n",
       "      <td>1896</td>\n",
       "      <td>[17]</td>\n",
       "      <td>0</td>\n",
       "      <td>378.0</td>\n",
       "      <td>1.0</td>\n",
       "    </tr>\n",
       "    <tr>\n",
       "      <td>711</td>\n",
       "      <td>[16]</td>\n",
       "      <td>[0]</td>\n",
       "      <td>378.0</td>\n",
       "      <td>1.0</td>\n",
       "    </tr>\n",
       "    <tr>\n",
       "      <td>195</td>\n",
       "      <td>[16]</td>\n",
       "      <td>[0]</td>\n",
       "      <td>378.0</td>\n",
       "      <td>1.0</td>\n",
       "    </tr>\n",
       "    <tr>\n",
       "      <td>2031</td>\n",
       "      <td>[23]</td>\n",
       "      <td>0</td>\n",
       "      <td>378.0</td>\n",
       "      <td>1.0</td>\n",
       "    </tr>\n",
       "  </tbody>\n",
       "</table>\n",
       "</div>"
      ],
      "text/plain": [
       "     Plasmido_1 Plasmido_2  Tiempo  Size\n",
       "2365       [16]        [2]   405.0   1.0\n",
       "1896       [17]          0   378.0   1.0\n",
       "711        [16]        [0]   378.0   1.0\n",
       "195        [16]        [0]   378.0   1.0\n",
       "2031       [23]          0   378.0   1.0"
      ]
     },
     "execution_count": 149,
     "metadata": {},
     "output_type": "execute_result"
    }
   ],
   "source": [
    "df.head()"
   ]
  },
  {
   "cell_type": "code",
   "execution_count": 150,
   "metadata": {},
   "outputs": [],
   "source": [
    "p1t=sum(df.Plasmido_1)\n",
    "p2t=sum(df.Plasmido_2)"
   ]
  },
  {
   "cell_type": "code",
   "execution_count": 151,
   "metadata": {},
   "outputs": [
    {
     "data": {
      "text/plain": [
       "array([65263])"
      ]
     },
     "execution_count": 151,
     "metadata": {},
     "output_type": "execute_result"
    }
   ],
   "source": [
    "p1t"
   ]
  },
  {
   "cell_type": "code",
   "execution_count": 152,
   "metadata": {},
   "outputs": [
    {
     "data": {
      "text/plain": [
       "array([2451])"
      ]
     },
     "execution_count": 152,
     "metadata": {},
     "output_type": "execute_result"
    }
   ],
   "source": [
    "p2t"
   ]
  },
  {
   "cell_type": "code",
   "execution_count": null,
   "metadata": {},
   "outputs": [],
   "source": []
  }
 ],
 "metadata": {
  "kernelspec": {
   "display_name": "Python 3",
   "language": "python",
   "name": "python3"
  },
  "language_info": {
   "codemirror_mode": {
    "name": "ipython",
    "version": 3
   },
   "file_extension": ".py",
   "mimetype": "text/x-python",
   "name": "python",
   "nbconvert_exporter": "python",
   "pygments_lexer": "ipython3",
   "version": "3.7.4"
  }
 },
 "nbformat": 4,
 "nbformat_minor": 2
}
